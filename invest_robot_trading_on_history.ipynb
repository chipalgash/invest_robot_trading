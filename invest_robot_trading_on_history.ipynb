{
 "cells": [
  {
   "cell_type": "markdown",
   "id": "76546fea3fbb8974",
   "metadata": {
    "collapsed": false,
    "jupyter": {
     "outputs_hidden": false
    }
   },
   "source": [
    "#### Описание стратегии торговли \n",
    "\n",
    "Торговая стратегия построена на анализе японских свечей и обнаружении паттерна **\"Бычье поглощение\" / \"Медвежье поглощение\"**\n",
    " в совокупности с трендовым индикатором - скользящей средней (МА).\n",
    " \n",
    "![Bullish takeover](./assets/images/bullish_takeover.png \"Bullish takeover\") ![Bearish takeover](./assets/images/bearish_takeover.png \"Bearish takeover\")\n",
    "\n",
    "Свечные модели принято подразделять на две категории:\n",
    "-   **Модели разворота**: молот и повешенный, утренняя и вечерняя звезда, поглощение, харами, завеса из облаков и другие.\n",
    "-   **Модели продолжения тренда**: гэп тацуки, у основания/в основании, толчок, удержание на татами и другие.\n",
    "\n",
    "Модель торгует по рынку:\n",
    "-   внутри дня с 10-00 до 23-30 мск на 10min таймфрейме\n",
    "-   с переносом позиции на 1h таймфрейме \n",
    "\n",
    "Сигналы для входа: **buy/sell** генерируются на двух таймфреймах: `1h, 10min`.\n",
    "\n",
    "Сигнал **buy**:\n",
    "-   цена закрытия (close) последней h1 свечи выше значения MA24\n",
    "-   наличие паттерна **\"Бычье поглощение\"** на h1\n",
    "-   цена закрытия (close) последней 10min свечи выше значения MA144\n",
    "-   наличие паттерна **\"Бычье поглощение\"** на 10min.\n",
    "\n",
    "Сигнал **sell**:\n",
    "-   цена закрытия (close) последней h1 свечи ниже значения MA24\n",
    "-   наличие паттерна **\"Медвежье поглощение\"** на h1\n",
    "-   цена закрытия (close) последней 10min свечи ниже значения MA144\n",
    "-   наличие паттерна **\"Медвежье поглощение\"** на 10min.\n",
    "\n",
    "Выход из рынка:\n",
    "-   внутри дня по цене закрытия 10 минутной свечи в 23-30 мск.\n",
    "-   на 1h таймфрейме при получении встречного разворотного паттерна."
   ]
  },
  {
   "cell_type": "markdown",
   "id": "1e0b85137532f5dc",
   "metadata": {
    "collapsed": false,
    "jupyter": {
     "outputs_hidden": false
    }
   },
   "source": [
    "### Модуль загрузки истории"
   ]
  },
  {
   "cell_type": "code",
   "execution_count": null,
   "id": "ef2a90433707773c",
   "metadata": {
    "ExecuteTime": {
     "end_time": "2024-07-19T12:35:01.669193800Z",
     "start_time": "2024-07-19T12:34:58.441864700Z"
    },
    "collapsed": false,
    "jupyter": {
     "outputs_hidden": false
    }
   },
   "outputs": [],
   "source": [
    "# analysis of financial markets\n",
    "from moexalgo import session, Ticker\n",
    "import os\n",
    "import pandas as pd\n",
    "import warnings\n",
    "warnings.filterwarnings(\"ignore\")\n",
    "\n",
    "# получаем данные для авторизации на бирже: адрес почты и пороль при регистрации на Московской бирже\n",
    "username = \"\"\n",
    "password = \"\"\n",
    "# авторизуемся на бирже\n",
    "session.authorize(username, password)\n",
    "\n",
    "def upload_history(start_date, end_date, stock, timeframes):\n",
    "    # создаем рыночный инструмент\n",
    "    financial_instrument = Ticker(stock)\n",
    "    # получаем историю за период\n",
    "    df = financial_instrument.candles(start=start_date, end=end_date, period=timeframes)        \n",
    "    \n",
    "    return df\n",
    "\n",
    "STOCK = \"RUAL\"\n",
    "TIMEFRAMES = [\"1h\", \"10min\"]\n",
    "START_DATE = \"2024-07-01\"\n",
    "END_DATE = \"2024-07-19\"\n",
    "\n",
    "df_1h = upload_history(start_date=START_DATE, end_date=END_DATE, stock=STOCK, timeframes=TIMEFRAMES[0])\n",
    "df_10min = upload_history(start_date=START_DATE, end_date=END_DATE, stock=STOCK, timeframes=TIMEFRAMES[1])"
   ]
  },
  {
   "cell_type": "code",
   "execution_count": null,
   "id": "90cc325c250ca6b5",
   "metadata": {
    "ExecuteTime": {
     "end_time": "2024-07-19T12:35:01.711753100Z",
     "start_time": "2024-07-19T12:35:01.682151100Z"
    },
    "collapsed": false,
    "jupyter": {
     "outputs_hidden": false
    }
   },
   "outputs": [],
   "source": [
    "display(df_1h)"
   ]
  },
  {
   "cell_type": "code",
   "execution_count": null,
   "id": "7161dc58542f1446",
   "metadata": {
    "ExecuteTime": {
     "end_time": "2024-07-19T12:35:01.802883100Z",
     "start_time": "2024-07-19T12:35:01.701644200Z"
    },
    "collapsed": false,
    "jupyter": {
     "outputs_hidden": false
    }
   },
   "outputs": [],
   "source": [
    "display(df_10min)"
   ]
  },
  {
   "cell_type": "code",
   "execution_count": null,
   "id": "b0fdc59a0ea7ffe6",
   "metadata": {
    "ExecuteTime": {
     "end_time": "2024-07-19T12:35:01.840345600Z",
     "start_time": "2024-07-19T12:35:01.735829500Z"
    },
    "collapsed": false,
    "jupyter": {
     "outputs_hidden": false
    }
   },
   "outputs": [],
   "source": [
    "# создаем путь к файлу истории\n",
    "history_path_1h = f\"./history/{STOCK}/{TIMEFRAMES[0]}/{START_DATE}_{END_DATE}.csv\"\n",
    "history_path_10min = f\"./history/{STOCK}/{TIMEFRAMES[1]}/{START_DATE}_{END_DATE}.csv\"\n",
    "\n",
    "if not os.path.exists(f\"./history/{STOCK}/{TIMEFRAMES[0]}\"):\n",
    "    # создаем директорию\n",
    "    os.makedirs(f\"./history/{STOCK}/{TIMEFRAMES[0]}\")\n",
    "    \n",
    "if not os.path.exists(f\"./history/{STOCK}/{TIMEFRAMES[1]}\"):\n",
    "    # создаем директорию\n",
    "    os.makedirs(f\"./history/{STOCK}/{TIMEFRAMES[1]}\")\n",
    "\n",
    "# сохраняем историю в формат csv\n",
    "df_1h.to_csv(f\"{history_path_1h}\", sep=\",\", encoding=\"utf-8\", index=False)    \n",
    "df_10min.to_csv(f\"{history_path_10min}\", sep=\",\", encoding=\"utf-8\", index=False)"
   ]
  },
  {
   "cell_type": "markdown",
   "id": "1809c01d6e4c6ffd",
   "metadata": {
    "collapsed": false,
    "jupyter": {
     "outputs_hidden": false
    }
   },
   "source": [
    "### Пользовательские функции"
   ]
  },
  {
   "cell_type": "code",
   "execution_count": null,
   "id": "21d04787a88af537",
   "metadata": {
    "ExecuteTime": {
     "end_time": "2024-07-19T12:35:01.863779700Z",
     "start_time": "2024-07-19T12:35:01.776498100Z"
    },
    "collapsed": false,
    "jupyter": {
     "outputs_hidden": false
    }
   },
   "outputs": [],
   "source": [
    "def get_subdirectories(directory):\n",
    "    return [name for name in os.listdir(directory) if os.path.isdir(os.path.join(directory, name))]\n",
    "\n",
    "\n",
    "def diary_trading(signals, df, tm, quantity):\n",
    "    df_rez = df\n",
    "    if df_rez.shape[0] == 0:\n",
    "        for index_row, row in signals.iterrows():\n",
    "            if row['durations'] != None:\n",
    "                row_df = []\n",
    "                # таймфрейм\n",
    "                row_df.append(tm)\n",
    "                # дата сделки\n",
    "                if tm == \"1d\":\n",
    "                    row_df.append(dt.datetime.strptime(row['begin'], '%Y-%m-%d').strftime('%Y-%m-%d'))\n",
    "                else:\n",
    "                    row_df.append(dt.datetime.strptime(row['begin'], '%Y-%m-%d %H:%M:%S').strftime('%Y-%m-%d'))\n",
    "                # время сделки\n",
    "                if tm == \"1d\":\n",
    "                    row_df.append(\"00:00:00\")\n",
    "                else:\n",
    "                    row_df.append(dt.datetime.strptime(row['begin'], '%Y-%m-%d %H:%M:%S').strftime('%H:%M:%S'))\n",
    "                # сигнал\n",
    "                row_df.append(row['durations'])\n",
    "                # позиция\n",
    "                row_df.append(row['positions'])\n",
    "                # цена открытия сделки\n",
    "                if row['positions'] == 'input' or row['positions'] == 'add' or row['positions'] == 'over':\n",
    "                    row_df.append(row['close'])\n",
    "                else:\n",
    "                    row_df.append(0)\n",
    "                # цена закрытия сделки\n",
    "                if row['positions'] == 'output':\n",
    "                    row_df.append(row['close'])\n",
    "                    # список индексов с неопределенными ценами закрытия\n",
    "                    indexes = []\n",
    "                    # перебираем все строки статистики\n",
    "                    for ind, row_stat in df_rez.iterrows():\n",
    "                        if row_stat['ClosePrice'] == 0:\n",
    "                            indexes.append(ind)\n",
    "                    # перебираем индексы\n",
    "                    for i in indexes:\n",
    "                        df_rez.iat[i, 6] = row['close']\n",
    "                elif row['positions'] == 'over':\n",
    "                    row_df.append(0)\n",
    "                    # список индексов с неопределенными ценами закрытия\n",
    "                    indexes = []\n",
    "                    # перебираем все строки статистики\n",
    "                    for ind, row_stat in df_rez.iterrows():\n",
    "                        if row_stat['ClosePrice'] == 0:\n",
    "                            indexes.append(ind)\n",
    "                    # перебираем индексы\n",
    "                    for i in indexes:\n",
    "                        df_rez.iat[i, 6] = row['close']\n",
    "                else:\n",
    "                    row_df.append(0)\n",
    "                # количество акций\n",
    "                if row['positions'] == 'over':\n",
    "                    row_df.append(df_rez.iloc[-1][\"Lots\"] + quantity)\n",
    "                elif row['positions'] == 'output':\n",
    "                    row_df.append(df_rez.iloc[-1][\"Lots\"])\n",
    "                else:\n",
    "                    row_df.append(quantity)\n",
    "                # сумма сделки\n",
    "                if row['positions'] == 'output' or row['positions'] == 'over':\n",
    "                    row_df.append(round(row_df[-1] * row['close'], 1))\n",
    "                else:\n",
    "                    row_df.append(round(row_df[-1] * row['close'], 1))\n",
    "                # общее количество акций\n",
    "                if row['positions'] == 'add':\n",
    "                    row_df.append(df_rez.iloc[-1][\"Lots\"] + quantity)\n",
    "                elif row['positions'] == 'output':\n",
    "                    row_df.append(0)\n",
    "                else:\n",
    "                    row_df.append(quantity)\n",
    "                # записываем строку в коней датафрейма\n",
    "                df_rez.loc[len(df_rez.index)] = row_df\n",
    "        # расчет прибыли/убытков\n",
    "        profit_loss = []\n",
    "        for ind, row in df_rez.iterrows():\n",
    "            closePrice = row['ClosePrice']\n",
    "            openPrice = row['OpenPrice']\n",
    "            if row['OpenPrice'] != 0:\n",
    "                if row['Position'] == 'over':\n",
    "                    contract = row['Quantity'] / 2\n",
    "                else:\n",
    "                    contract = row['Quantity']\n",
    "                if row['Duration'] == 'buy':\n",
    "                    profit_loss.append(round(contract * (closePrice - openPrice), 2))\n",
    "                elif row['Duration'] == 'sell':\n",
    "                    profit_loss.append(round(contract * (openPrice - closePrice), 2))\n",
    "            else:\n",
    "                profit_loss.append(0)\n",
    "        # записываем прибыль/убыток\n",
    "        df_rez['Profit'] = profit_loss\n",
    "        # обрезаем датафрейм по последнему закрытию\n",
    "        index_last_output = 0\n",
    "        for ind, row in df_rez.iterrows():\n",
    "            if row['Position'] == 'output':\n",
    "                index_last_output = ind\n",
    "        df_rez = df_rez.iloc[:index_last_output + 1, :]\n",
    "\n",
    "    return df_rez\n",
    "\n",
    "\n",
    "def statistics(diary, stock, tm):\n",
    "    stat_dict = {\"Stocks\": stock, \"TimeFrames\": tm, \"Profit\": 0, \"Trades\": 0,\n",
    "                 \"TradesProfit\": 0, \"TradesLoss\": 0, \"TotalProfit\": 0, \"TotalLoss\": 0, \"ProfitRatio\": 0}\n",
    "    # заполняем словарь\n",
    "    stat_dict[\"Profit\"] = diary[\"Profit\"].sum()\n",
    "    stat_dict[\"Trades\"] = diary.loc[(diary[\"Profit\"] > 0) | (diary[\"Profit\"] < 0), \"Profit\"].count()\n",
    "    stat_dict[\"TradesProfit\"] = diary.loc[diary[\"Profit\"] > 0, \"Profit\"].count()\n",
    "    stat_dict[\"TradesLoss\"] = diary.loc[diary[\"Profit\"] < 0, \"Profit\"].count()\n",
    "    stat_dict[\"TotalProfit\"] = diary.loc[diary[\"Profit\"] > 0, \"Profit\"].sum()\n",
    "    stat_dict[\"TotalLoss\"] = diary.loc[diary[\"Profit\"] < 0, \"Profit\"].sum()\n",
    "    stat_dict[\"ProfitRatio\"] = round(stat_dict[\"TotalProfit\"] / (stat_dict[\"TotalLoss\"] * -1), 2)\n",
    "\n",
    "    return stat_dict\n",
    "\n",
    "\n",
    "def total_statistics(total_tbl, stock):\n",
    "    total_row= {\"Stocks\": stock, \"TimeFrames\": \"total\", \"Profit\": 0, \"Trades\": 0,\n",
    "                 \"TradesProfit\": 0, \"TradesLoss\": 0, \"TotalProfit\": 0, \"TotalLoss\": 0, \"ProfitRatio\": 0}\n",
    "    # заполняем словарь\n",
    "    total_row[\"Profit\"] = total_tbl[\"Profit\"].sum()\n",
    "    total_row[\"Trades\"] = total_tbl[\"Trades\"].sum()\n",
    "    total_row[\"TradesProfit\"] = total_tbl[\"TradesProfit\"].sum()\n",
    "    total_row[\"TradesLoss\"] = total_tbl[\"TradesLoss\"].sum()\n",
    "    total_row[\"TotalProfit\"] = total_tbl[\"TotalProfit\"].sum()\n",
    "    total_row[\"TotalLoss\"] = total_tbl[\"TotalLoss\"].sum()\n",
    "    total_row[\"ProfitRatio\"] = round(total_tbl[\"ProfitRatio\"].mean(), 2)\n",
    "\n",
    "    return total_row"
   ]
  },
  {
   "cell_type": "markdown",
   "id": "d5a7aa8ecfc6ae1f",
   "metadata": {
    "collapsed": false,
    "jupyter": {
     "outputs_hidden": false
    }
   },
   "source": [
    "### Модуль торговой стратегии"
   ]
  },
  {
   "cell_type": "code",
   "execution_count": null,
   "id": "6006eb61846ae0ac",
   "metadata": {
    "ExecuteTime": {
     "end_time": "2024-07-19T12:35:01.864779700Z",
     "start_time": "2024-07-19T12:35:01.804868600Z"
    },
    "collapsed": false,
    "jupyter": {
     "outputs_hidden": false
    }
   },
   "outputs": [],
   "source": [
    "import datetime as dt\n",
    "\n",
    "\n",
    "def pattern_bearish_takeover(candle1, candle2):\n",
    "    # если предыдущая свеча бычья\n",
    "    if candle1['open'] < candle1['close']:\n",
    "        if candle2['open'] >= candle1['close'] and candle2['close'] < candle1['open']:\n",
    "            return True\n",
    "        else:\n",
    "            return False\n",
    "    else:\n",
    "        False\n",
    "\n",
    "\n",
    "def pattern_bullish_takeover(candle1, candle2):\n",
    "    # если предыдущая свеча медвежья\n",
    "    if candle1['open'] > candle1['close']:\n",
    "        if candle2['open'] <= candle1['close'] and candle2['close'] > candle1['open']:\n",
    "            return True\n",
    "        else:\n",
    "            return False\n",
    "    else:\n",
    "        False\n",
    "\n",
    "\n",
    "def strategy_takeover(df, ma, tm, add):\n",
    "    # локальные переменные для торгов\n",
    "    INPUT = False\n",
    "    OUTPUT = True\n",
    "    ADD = False\n",
    "    OVER = False\n",
    "    TRAND_UP = False\n",
    "    TRAND_DOWN = False\n",
    "    # Определяем дату начала торгов на истории\n",
    "    candle_start = df.iloc[ma]\n",
    "    if tm == \"1d\":\n",
    "        trading_start_date = (dt.datetime.strptime(candle_start['begin'], '%Y-%m-%d') + dt.timedelta(\n",
    "            days=1)).strftime('%Y-%m-%d')\n",
    "        # получим  индексы первых свечей с даты начала торгов\n",
    "        index_candel_start_trading = df.loc[df['begin'] == f'{trading_start_date}'].index[0]\n",
    "    else:\n",
    "        trading_start_date = (dt.datetime.strptime(candle_start['begin'], '%Y-%m-%d %H:%M:%S') + dt.timedelta(\n",
    "        days=1)).strftime('%Y-%m-%d')\n",
    "        # получим  индексы первых свечей с даты начала торгов\n",
    "        index_candel_start_trading = df.loc[df['begin'] == f'{trading_start_date} 10:00:00'].index[0]\n",
    "    # обрезаем датафремы с даты начала торгов\n",
    "    signals = df.iloc[index_candel_start_trading:, :].reset_index(drop=True)\n",
    "\n",
    "    # список сигналов 1h на всей истории\n",
    "    labels_duration = []\n",
    "    # список позиций 1h на всей истории\n",
    "    labels_position = []\n",
    "\n",
    "    # поиск сигналов на истории 1h\n",
    "    for index, row in signals.iterrows():\n",
    "        # получаем теущую и предыдущую свечки\n",
    "        current_candle = row\n",
    "        previous_candle = signals.iloc[index - 1]\n",
    "        # если обнаружен медвежий паттерн по тренду\n",
    "        if pattern_bearish_takeover(previous_candle, current_candle) and current_candle['close'] < current_candle[f'ma{ma}']:\n",
    "            labels_duration.append('sell')\n",
    "            # вне рынка\n",
    "            if OUTPUT:\n",
    "                labels_position.append('input')\n",
    "                INPUT, OUTPUT, ADD, OVER = True, False, False, False\n",
    "            # в рынке\n",
    "            elif (INPUT or ADD or OVER) and TRAND_DOWN:\n",
    "                labels_position.append('add')\n",
    "                INPUT, OUTPUT, ADD, OVER = False, False, True, False\n",
    "            elif (INPUT or ADD or OVER) and TRAND_UP:\n",
    "                labels_position.append('over')\n",
    "                INPUT, OUTPUT, ADD, OVER = False, False, False, True\n",
    "            # меняем тренд\n",
    "            TRAND_UP = False\n",
    "            TRAND_DOWN = True\n",
    "\n",
    "        # если обнаружен медвежий паттерн против тренда\n",
    "        elif pattern_bearish_takeover(previous_candle, current_candle) and current_candle['close'] > current_candle[f'ma{ma}']:\n",
    "            # вне рынка\n",
    "            if OUTPUT:\n",
    "                labels_duration.append(None)\n",
    "                labels_position.append('output')\n",
    "                INPUT, OUTPUT, ADD, OVER = False, True, False, False\n",
    "            # в рынке\n",
    "            elif INPUT or ADD or OVER:\n",
    "                labels_duration.append('sell')\n",
    "                labels_position.append('output')\n",
    "                INPUT, OUTPUT, ADD, OVER = False, True, False, False\n",
    "\n",
    "        # если обнаружен бычий паттерн по тренду\n",
    "        elif pattern_bullish_takeover(previous_candle, current_candle) and current_candle['close'] > current_candle[f'ma{ma}']:\n",
    "            labels_duration.append('buy')\n",
    "            # вне рынка\n",
    "            if OUTPUT:\n",
    "                labels_position.append('input')\n",
    "                INPUT, OUTPUT, ADD, OVER = True, False, False, False\n",
    "            # в рынке\n",
    "            elif (INPUT or ADD or OVER) and TRAND_UP:\n",
    "                labels_position.append('add')\n",
    "                INPUT, OUTPUT, ADD, OVER = False, False, True, False\n",
    "            elif (INPUT or ADD or OVER) and TRAND_DOWN:\n",
    "                labels_position.append('over')\n",
    "                INPUT, OUTPUT, ADD, OVER = False, False, False, True\n",
    "            # меняем тренд\n",
    "            TRAND_UP = True\n",
    "            TRAND_DOWN = False\n",
    "\n",
    "        # если обнаружен бычий паттерн против тренда\n",
    "        elif pattern_bullish_takeover(previous_candle, current_candle) and current_candle['close'] < current_candle[f'ma{ma}']:\n",
    "            # вне рынка\n",
    "            if OUTPUT:\n",
    "                labels_duration.append(None)\n",
    "                labels_position.append('output')\n",
    "                INPUT, OUTPUT, ADD, OVER = False, True, False, False\n",
    "            # в рынке\n",
    "            elif INPUT or ADD or OVER:\n",
    "                labels_duration.append('buy')\n",
    "                labels_position.append('output')\n",
    "                INPUT, OUTPUT, ADD, OVER = False, True, False, False\n",
    "\n",
    "        # если нет паттерна\n",
    "        else:\n",
    "            labels_duration.append(None)\n",
    "            labels_position.append('output')\n",
    "\n",
    "    # формируем признак сгенерированных сигналов на истории 1h\n",
    "    signals['durations'] = labels_duration\n",
    "    # формируем признак сгенерированных позиций на истории 1h\n",
    "    signals['positions'] = labels_position\n",
    "\n",
    "    return signals"
   ]
  },
  {
   "cell_type": "markdown",
   "id": "83cf7b49c8ef15f1",
   "metadata": {
    "collapsed": false,
    "jupyter": {
     "outputs_hidden": false
    }
   },
   "source": [
    "### Модуль торговли на истории"
   ]
  },
  {
   "cell_type": "code",
   "execution_count": null,
   "id": "caf461cfaef9fb0d",
   "metadata": {
    "ExecuteTime": {
     "end_time": "2024-07-19T12:35:02.325426700Z",
     "start_time": "2024-07-19T12:35:01.828725500Z"
    },
    "collapsed": false,
    "jupyter": {
     "outputs_hidden": false
    }
   },
   "outputs": [],
   "source": [
    "# количество акций\n",
    "quantity = 100\n",
    "# словарь значений MA\n",
    "dict_ma = {\"1h\": 24, \"10min\": 144}\n",
    "\n",
    "# по каждому таймфрейму\n",
    "for timeframe in TIMEFRAMES:\n",
    "    # создаем путь к файлу истории и статистики\n",
    "    history_path = f\"./history/{STOCK}/{timeframe}/{START_DATE}_{END_DATE}.csv\"\n",
    "    stat_path = f\"./statistics/{STOCK}/{timeframe}/statistics_{STOCK}_{START_DATE}_{END_DATE}.csv\"\n",
    "    # читаем историю\n",
    "    df = pd.read_csv(history_path, sep=\",\", encoding=\"utf-8\")\n",
    "    \n",
    "    # создаем путь к директории статистики    \n",
    "    if not os.path.exists(f\"./statistics/{STOCK}/{timeframe}\"):\n",
    "        # создаем директорию\n",
    "        os.makedirs(f\"./statistics/{STOCK}/{timeframe}\")\n",
    "    # создаем датафрейм статистики\n",
    "    df_stat = pd.DataFrame(columns=[\"TimeFrame\", \"Date\", \"Time\", \"Duration\", \"Position\", \"OpenPrice\", \"ClosePrice\", \"Quantity\",\n",
    "                             \"Amount\", \"Lots\"])\n",
    "\n",
    "    # расчет средней\n",
    "    df[f'ma{dict_ma[timeframe]}'] = df['close'].rolling(window=dict_ma[timeframe]).mean()\n",
    "    # запускаем стратегию\n",
    "    df_signals = strategy_takeover(df=df, ma=dict_ma[timeframe], tm=timeframe, add=True)\n",
    "    # формируем дневник трейдера\n",
    "    df_diary = diary_trading(signals=df_signals, df=df_stat, tm=timeframe, quantity=quantity)\n",
    "    # сохраняем дневник трейдера\n",
    "    df_diary.to_csv(stat_path, sep=\",\", encoding=\"utf-8\", index=False)   \n",
    "    display(df_diary)"
   ]
  },
  {
   "cell_type": "markdown",
   "id": "c0d305330d6e81ae",
   "metadata": {
    "collapsed": false,
    "jupyter": {
     "outputs_hidden": false
    }
   },
   "source": [
    "### Модуль статистики торговли на истории"
   ]
  },
  {
   "cell_type": "code",
   "execution_count": null,
   "id": "4e0f1b189b0aedfa",
   "metadata": {
    "ExecuteTime": {
     "end_time": "2024-07-19T12:35:02.407946600Z",
     "start_time": "2024-07-19T12:35:02.327614900Z"
    },
    "collapsed": false,
    "jupyter": {
     "outputs_hidden": false
    }
   },
   "outputs": [],
   "source": [
    "# список дневников трейдинга\n",
    "diaries = []\n",
    "# получим список директорий\n",
    "timeframes= [f for f in os.listdir(f\"./statistics/{STOCK}\")]\n",
    "    \n",
    "# список строк сводной статистики\n",
    "rows = []\n",
    "for timeframe in timeframes:\n",
    "    if timeframe != \"total\":\n",
    "        # заносим дневник в список дневников\n",
    "        diary = pd.read_csv(f\"./statistics/{STOCK}/{timeframe}/statistics_{STOCK}_{START_DATE}_{END_DATE}.csv\", sep=\",\", encoding=\"utf-8\")        \n",
    "        # заносим компонент дневника в список дневников\n",
    "        diaries.append(diary)\n",
    "        # рассчитываем сводную статистику для таймфрейма\n",
    "        stat_dict = statistics(diary=diary, stock=STOCK, tm=timeframe)\n",
    "        # добавляем статистику в список\n",
    "        rows.append(stat_dict)\n",
    "\n",
    "# формируем файл сводной статистики\n",
    "stat_total_path = f\"./statistics/{STOCK}/total\"\n",
    "if not os.path.exists(stat_total_path):\n",
    "    # создаем директорию\n",
    "    os.makedirs(stat_total_path)\n",
    "# формируем датафрейм сводной статистики\n",
    "total_tbl = pd.DataFrame.from_dict(rows)\n",
    "# если торговали по нескольким таймфреймам\n",
    "if len(timeframes) > 1:\n",
    "    # добавляем итоговую строку\n",
    "    total_row = total_statistics(total_tbl=total_tbl, stock=STOCK)\n",
    "    total_tbl = pd.concat([total_tbl, pd.DataFrame.from_dict([total_row])], ignore_index=True)\n",
    "# сохраняем статистику в формат csv\n",
    "total_tbl.to_csv(f\"{stat_total_path}/total_stat_{STOCK}_{START_DATE}_{END_DATE}.csv\", sep=\",\", encoding=\"utf-8\", index=False)    \n"
   ]
  },
  {
   "cell_type": "code",
   "execution_count": null,
   "id": "a1ac3a627a82adce",
   "metadata": {
    "ExecuteTime": {
     "end_time": "2024-07-19T12:35:02.438672200Z",
     "start_time": "2024-07-19T12:35:02.353949900Z"
    },
    "collapsed": false,
    "jupyter": {
     "outputs_hidden": false
    }
   },
   "outputs": [],
   "source": [
    "# вывод статистики\n",
    "display(total_tbl)"
   ]
  }
 ],
 "metadata": {
  "kernelspec": {
   "display_name": "Python 3 (ipykernel)",
   "language": "python",
   "name": "python3"
  },
  "language_info": {
   "codemirror_mode": {
    "name": "ipython",
    "version": 3
   },
   "file_extension": ".py",
   "mimetype": "text/x-python",
   "name": "python",
   "nbconvert_exporter": "python",
   "pygments_lexer": "ipython3",
   "version": "3.11.4"
  }
 },
 "nbformat": 4,
 "nbformat_minor": 5
}
